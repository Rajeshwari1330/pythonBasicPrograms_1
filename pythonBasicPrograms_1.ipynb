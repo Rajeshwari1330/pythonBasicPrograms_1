{
 "cells": [
  {
   "cell_type": "code",
   "execution_count": 1,
   "metadata": {},
   "outputs": [
    {
     "name": "stdout",
     "output_type": "stream",
     "text": [
      "Hello World...!\n"
     ]
    }
   ],
   "source": [
    "#Print Hello World program\n",
    "\n",
    "print(\"Hello World...!\")"
   ]
  },
  {
   "cell_type": "code",
   "execution_count": 2,
   "metadata": {},
   "outputs": [
    {
     "name": "stdout",
     "output_type": "stream",
     "text": [
      "Enter first number2\n",
      "Enter second number12\n",
      "Addition of 2 and 12 is : 14\n"
     ]
    }
   ],
   "source": [
    "#Add two numbers\n",
    "\n",
    "num1 = int(input('Enter first number'))\n",
    "num2 = int(input('Enter second number'))\n",
    "sum = num1 + num2\n",
    "print('Addition of', num1, 'and', num2, 'is :', sum)"
   ]
  },
  {
   "cell_type": "code",
   "execution_count": 3,
   "metadata": {},
   "outputs": [
    {
     "name": "stdout",
     "output_type": "stream",
     "text": [
      "Enter first number0.37\n",
      "Enter second number8.23\n",
      "Addition of 0.37 and 8.23 is : 8.6\n"
     ]
    }
   ],
   "source": [
    "#Add two numbers\n",
    "#floating point numbers\n",
    "\n",
    "num1 = float(input('Enter first number'))\n",
    "num2 = float(input('Enter second number'))\n",
    "sum = num1 + num2\n",
    "print('Addition of', num1, 'and', num2, 'is :', sum)"
   ]
  },
  {
   "cell_type": "code",
   "execution_count": 5,
   "metadata": {},
   "outputs": [
    {
     "name": "stdout",
     "output_type": "stream",
     "text": [
      "Enter a number36\n",
      "The square root of 36.0 is : 6.0\n"
     ]
    }
   ],
   "source": [
    "#square root of number\n",
    "\n",
    "number = float(input('Enter a number'))\n",
    "sqrt_num = number ** 0.5\n",
    "print('The square root of', number, 'is :', sqrt_num)"
   ]
  },
  {
   "cell_type": "code",
   "execution_count": 11,
   "metadata": {},
   "outputs": [
    {
     "name": "stdout",
     "output_type": "stream",
     "text": [
      "a: Enter the first side of triangle : 12\n",
      "b: Enter the second side of triangle : 5.3\n",
      "c: Enter the third side of triangle : 10\n",
      "The area of triangle is : 26.199799498278615\n"
     ]
    }
   ],
   "source": [
    "#Area of triangle\n",
    "\n",
    "a = float(input(\"a: Enter the first side of triangle : \"))\n",
    "b = float(input(\"b: Enter the second side of triangle : \"))\n",
    "c = float(input(\"c: Enter the third side of triangle : \"))\n",
    "\n",
    "#calculate semi-perimeter\n",
    "s = (a + b + c) / 2\n",
    "\n",
    "area = (s * (s-a) * (s-b) * (s-c)) ** 0.5\n",
    "\n",
    "print('The area of triangle is :' ,area)"
   ]
  },
  {
   "cell_type": "code",
   "execution_count": 13,
   "metadata": {},
   "outputs": [
    {
     "name": "stdout",
     "output_type": "stream",
     "text": [
      "Enter a first variable : 10\n",
      "Enter a second variable : 20\n",
      "Before swapping \n",
      "a =  10\n",
      "b =  20\n",
      "After swapping\n",
      "a =  20\n",
      "b =  10\n"
     ]
    }
   ],
   "source": [
    "#Swap two variables using temp variable\n",
    "\n",
    "a = int(input(\"Enter a first variable : \"))\n",
    "b = int(input(\"Enter a second variable : \"))\n",
    "\n",
    "print('Before swapping ')\n",
    "print('a = ',a)\n",
    "print('b = ',b)\n",
    "\n",
    "temp = a\n",
    "a = b\n",
    "b = temp\n",
    "\n",
    "print('After swapping')\n",
    "print('a = ',a)\n",
    "print('b = ',b)"
   ]
  },
  {
   "cell_type": "code",
   "execution_count": 17,
   "metadata": {},
   "outputs": [
    {
     "name": "stdout",
     "output_type": "stream",
     "text": [
      "Enter a first variable : 10\n",
      "Enter a second variable : 20\n",
      "Before swapping :\n",
      "a =  10\n",
      "b =  20\n",
      "After swapping\n",
      "a =  20\n",
      "b =  10\n"
     ]
    }
   ],
   "source": [
    "#swap two variables without using temp variable\n",
    "\n",
    "a = int(input(\"Enter a first variable : \"))\n",
    "b = int(input(\"Enter a second variable : \"))\n",
    "\n",
    "print('Before swapping :')\n",
    "print('a = ',a)\n",
    "print('b = ',b)\n",
    "\n",
    "a = a + b         \n",
    "b = a - b\n",
    "a = a - b\n",
    "\n",
    "print('After swapping')\n",
    "print('a = ',a)\n",
    "print('b = ',b)"
   ]
  },
  {
   "cell_type": "code",
   "execution_count": 18,
   "metadata": {},
   "outputs": [
    {
     "name": "stdout",
     "output_type": "stream",
     "text": [
      "Enter a first variable : 10\n",
      "Enter a second variable : 20\n",
      "Before swapping :\n",
      "a =  10\n",
      "b =  20\n",
      "After swapping\n",
      "a =  20\n",
      "b =  10\n"
     ]
    }
   ],
   "source": [
    "#Another logic\n",
    "#swap two variables without using temp variable\n",
    "\n",
    "a = int(input(\"Enter a first variable : \"))\n",
    "b = int(input(\"Enter a second variable : \"))\n",
    "\n",
    "print('Before swapping :')\n",
    "print('a = ',a)\n",
    "print('b = ',b)\n",
    "\n",
    "a = a - b         \n",
    "b = a + b\n",
    "a = b - a\n",
    "\n",
    "print('After swapping')\n",
    "print('a = ',a)\n",
    "print('b = ',b)"
   ]
  },
  {
   "cell_type": "code",
   "execution_count": 1,
   "metadata": {},
   "outputs": [
    {
     "name": "stdout",
     "output_type": "stream",
     "text": [
      "Enter the value of a : 2\n",
      "Enter the value of b : 5\n",
      "Enter the value of c : 3\n",
      "The roots are : \n",
      "root1 is : (-1+0j)\n",
      "root2 is : (-1.5+0j)\n"
     ]
    }
   ],
   "source": [
    "#Find roots of quadretic equation using cmath\n",
    "\n",
    "import cmath\n",
    "\n",
    "#coefficients\n",
    "a = float(input(\"Enter the value of a : \"))\n",
    "b = float(input(\"Enter the value of b : \"))\n",
    "c = float(input(\"Enter the value of c : \"))\n",
    "\n",
    "descriminant = (b ** 2) - (4 * a * c)\n",
    "\n",
    "root1 = (-b + cmath.sqrt(descriminant)) / (2 * a)\n",
    "root2 = (-b - cmath.sqrt(descriminant)) / (2 * a)\n",
    "\n",
    "print(\"The roots are : \")\n",
    "print('root1 is :', root1)\n",
    "print('root2 is :', root2)"
   ]
  },
  {
   "cell_type": "code",
   "execution_count": 2,
   "metadata": {},
   "outputs": [
    {
     "name": "stdout",
     "output_type": "stream",
     "text": [
      "Enter the value of a : 2\n",
      "Enter the value of b : 5\n",
      "Enter the value of c : 3\n",
      "The roots are : \n",
      "root1 is : -1.0\n",
      "root2 is : -1.5\n"
     ]
    }
   ],
   "source": [
    "#Find roots of quadretic equation without using cmath\n",
    "\n",
    "#coefficients\n",
    "a = float(input(\"Enter the value of a : \"))\n",
    "b = float(input(\"Enter the value of b : \"))\n",
    "c = float(input(\"Enter the value of c : \"))\n",
    "\n",
    "descriminant = (b ** 2) - (4 * a * c)\n",
    "\n",
    "root1 = (-b + (descriminant ** 0.5)) / (2 * a)\n",
    "root2 = (-b - (descriminant ** 0.5)) / (2 * a)\n",
    "\n",
    "print(\"The roots are : \")\n",
    "print('root1 is :', root1)\n",
    "print('root2 is :', root2)"
   ]
  },
  {
   "cell_type": "code",
   "execution_count": 8,
   "metadata": {},
   "outputs": [
    {
     "name": "stdout",
     "output_type": "stream",
     "text": [
      "Generated random number is:  24\n"
     ]
    }
   ],
   "source": [
    "#Generate a random number\n",
    "\n",
    "import random\n",
    "\n",
    "number = random.randint(1,100)\n",
    "print('Generated random number is: ',number)"
   ]
  },
  {
   "cell_type": "code",
   "execution_count": 12,
   "metadata": {},
   "outputs": [
    {
     "name": "stdout",
     "output_type": "stream",
     "text": [
      "Enter the value in kilometer unit :12\n",
      "12.000 kilometer is equals to 7.452 miles\n"
     ]
    }
   ],
   "source": [
    "#convert kilometers into miles\n",
    "# [1 kilometer = 0.621 miles]\n",
    "\n",
    "kilometers = float(input('Enter the value in kilometer unit :'))\n",
    "\n",
    "miles = kilometers * 0.621\n",
    "\n",
    "print('%.3f kilometer is equals to %.3f miles' %(kilometers,miles))"
   ]
  },
  {
   "cell_type": "code",
   "execution_count": 13,
   "metadata": {},
   "outputs": [
    {
     "name": "stdout",
     "output_type": "stream",
     "text": [
      "Enter a value in miles unit : 10\n",
      "10.000 miles is equals to 16.103 kilometers\n"
     ]
    }
   ],
   "source": [
    "#convert miles into kilometer\n",
    "\n",
    "miles = float(input('Enter a value in miles unit : '))\n",
    "\n",
    "kilometers = miles / 0.621\n",
    "\n",
    "print('%.3f miles is equals to %.3f kilometers' %(miles,kilometers))"
   ]
  },
  {
   "cell_type": "code",
   "execution_count": 15,
   "metadata": {},
   "outputs": [
    {
     "name": "stdout",
     "output_type": "stream",
     "text": [
      "Enter a celsius value : 27\n",
      "27.000 celsius degree is equals to 80.600 fahrenheit degree\n"
     ]
    }
   ],
   "source": [
    "#convert celsius to fahrenheit\n",
    "# [celsius * 1.8 = fahrenheit - 32]\n",
    "\n",
    "celsius = float(input('Enter a celsius value : '))\n",
    "\n",
    "fahrenheit = (celsius * 1.8) + 32\n",
    "\n",
    "print('%.3f celsius degree is equals to %.3f fahrenheit degree' %(celsius,fahrenheit))"
   ]
  },
  {
   "cell_type": "code",
   "execution_count": 19,
   "metadata": {},
   "outputs": [
    {
     "name": "stdout",
     "output_type": "stream",
     "text": [
      "Enter a value in fahrenheit40\n",
      "40.000 fahrenheit degree is equals to 4.444 celsius degree\n"
     ]
    }
   ],
   "source": [
    "#convert fahrenheit to celsius\n",
    "# [ celsius * 1.8 = fahrenheit - 32 ]\n",
    "\n",
    "fahrenheit = float(input('Enter a value in fahrenheit'))\n",
    "\n",
    "celsius = (fahrenheit - 32) / 1.8\n",
    "\n",
    "print('%.3f fahrenheit degree is equals to %.3f celsius degree' %(fahrenheit,celsius))"
   ]
  },
  {
   "cell_type": "code",
   "execution_count": 26,
   "metadata": {},
   "outputs": [
    {
     "name": "stdout",
     "output_type": "stream",
     "text": [
      "Enter a number : 13\n",
      "13.0 is positive\n"
     ]
    }
   ],
   "source": [
    "#check if the number is positive, negative or zero\n",
    "\n",
    "number = float(input('Enter a number : '))\n",
    "\n",
    "if number > 0:\n",
    "    print(number, 'is positive')\n",
    "elif number < 0:\n",
    "    print(number, 'is negative')\n",
    "else:\n",
    "    print(number, 'is zero')"
   ]
  },
  {
   "cell_type": "code",
   "execution_count": null,
   "metadata": {},
   "outputs": [],
   "source": []
  }
 ],
 "metadata": {
  "kernelspec": {
   "display_name": "Python 3",
   "language": "python",
   "name": "python3"
  },
  "language_info": {
   "codemirror_mode": {
    "name": "ipython",
    "version": 3
   },
   "file_extension": ".py",
   "mimetype": "text/x-python",
   "name": "python",
   "nbconvert_exporter": "python",
   "pygments_lexer": "ipython3",
   "version": "3.7.6"
  }
 },
 "nbformat": 4,
 "nbformat_minor": 4
}
